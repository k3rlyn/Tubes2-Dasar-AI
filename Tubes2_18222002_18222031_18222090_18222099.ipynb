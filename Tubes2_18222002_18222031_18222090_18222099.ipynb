{
  "cells": [
    {
      "cell_type": "markdown",
      "metadata": {
        "id": "uR1JW69eLfG_"
      },
      "source": [
        "# IF3070 Foundations of Artificial Intelligence | Tugas Besar 2\n",
        "\n",
        "This notebook serves as a template for the assignment. Please create a copy of this notebook to complete your work. You can add more code blocks, markdown blocks, or new sections if needed.\n"
      ]
    },
    {
      "cell_type": "markdown",
      "metadata": {
        "id": "ucbaI5rBLtjJ"
      },
      "source": [
        "Group Number: 19\n",
        "\n",
        "Group Members:\n",
        "- Yasra Zhafirah (18222002)\n",
        "- Benedicta Eryka Santosa (18222031)\n",
        "- Kerlyn Deslia Andeskar (18222090)\n",
        "- Dahayu Ramaniya Aurasindu (18222099)"
      ]
    },
    {
      "cell_type": "markdown",
      "metadata": {
        "id": "GwzsfETHLfHA"
      },
      "source": [
        "## Import Libraries"
      ]
    },
    {
      "cell_type": "code",
      "execution_count": 28,
      "metadata": {
        "id": "jZJU5W_4LfHB"
      },
      "outputs": [],
      "source": [
        "import pandas as pd\n",
        "import numpy as np\n",
        "from sklearn.model_selection import train_test_split\n",
        "from sklearn.impute import SimpleImputer\n",
        "import matplotlib.pyplot as plt\n",
        "import seaborn as sns\n",
        "import scipy.stats as ss\n",
        "from sklearn.model_selection import train_test_split\n",
        "from sklearn.preprocessing import OneHotEncoder, RobustScaler\n",
        "from sklearn.impute import SimpleImputer\n",
        "from sklearn.compose import ColumnTransformer\n",
        "from imblearn.pipeline import Pipeline as Imbpipeline\n",
        "from sklearn.pipeline import Pipeline\n",
        "from sklearn.base import BaseEstimator, TransformerMixin\n",
        "from imblearn.over_sampling import RandomOverSampler\n",
        "from imblearn.under_sampling import RandomUnderSampler\n",
        "from sklearn.decomposition import PCA\n",
        "from sklearn.neighbors import KNeighborsClassifier\n",
        "from sklearn.metrics import accuracy_score,classification_report\n",
        "from sklearn.naive_bayes import GaussianNB\n",
        "from sklearn.tree import DecisionTreeClassifier\n",
        "from sklearn.impute import KNNImputer\n",
        "# Import other libraries if needed"
      ]
    },
    {
      "cell_type": "markdown",
      "metadata": {
        "id": "OKbjLIdYLfHC"
      },
      "source": [
        "## Import Dataset"
      ]
    },
    {
      "cell_type": "code",
      "execution_count": 16,
      "metadata": {
        "id": "-IWFJ-gdLfHD"
      },
      "outputs": [
        {
          "data": {
            "text/html": [
              "<div>\n",
              "<style scoped>\n",
              "    .dataframe tbody tr th:only-of-type {\n",
              "        vertical-align: middle;\n",
              "    }\n",
              "\n",
              "    .dataframe tbody tr th {\n",
              "        vertical-align: top;\n",
              "    }\n",
              "\n",
              "    .dataframe thead th {\n",
              "        text-align: right;\n",
              "    }\n",
              "</style>\n",
              "<table border=\"1\" class=\"dataframe\">\n",
              "  <thead>\n",
              "    <tr style=\"text-align: right;\">\n",
              "      <th></th>\n",
              "      <th>id</th>\n",
              "      <th>FILENAME</th>\n",
              "      <th>URL</th>\n",
              "      <th>URLLength</th>\n",
              "      <th>Domain</th>\n",
              "      <th>DomainLength</th>\n",
              "      <th>IsDomainIP</th>\n",
              "      <th>TLD</th>\n",
              "      <th>CharContinuationRate</th>\n",
              "      <th>TLDLegitimateProb</th>\n",
              "      <th>...</th>\n",
              "      <th>Pay</th>\n",
              "      <th>Crypto</th>\n",
              "      <th>HasCopyrightInfo</th>\n",
              "      <th>NoOfImage</th>\n",
              "      <th>NoOfCSS</th>\n",
              "      <th>NoOfJS</th>\n",
              "      <th>NoOfSelfRef</th>\n",
              "      <th>NoOfEmptyRef</th>\n",
              "      <th>NoOfExternalRef</th>\n",
              "      <th>label</th>\n",
              "    </tr>\n",
              "  </thead>\n",
              "  <tbody>\n",
              "    <tr>\n",
              "      <th>0</th>\n",
              "      <td>1</td>\n",
              "      <td>NaN</td>\n",
              "      <td>https://www.northcm.ac.th</td>\n",
              "      <td>24.0</td>\n",
              "      <td>www.northcm.ac.th</td>\n",
              "      <td>17.0</td>\n",
              "      <td>0.0</td>\n",
              "      <td>NaN</td>\n",
              "      <td>0.800000</td>\n",
              "      <td>NaN</td>\n",
              "      <td>...</td>\n",
              "      <td>0.0</td>\n",
              "      <td>0.0</td>\n",
              "      <td>1.0</td>\n",
              "      <td>NaN</td>\n",
              "      <td>3.0</td>\n",
              "      <td>NaN</td>\n",
              "      <td>69.0</td>\n",
              "      <td>NaN</td>\n",
              "      <td>NaN</td>\n",
              "      <td>1</td>\n",
              "    </tr>\n",
              "    <tr>\n",
              "      <th>1</th>\n",
              "      <td>4</td>\n",
              "      <td>8135291.txt</td>\n",
              "      <td>http://uqr.to/1il1z</td>\n",
              "      <td>NaN</td>\n",
              "      <td>NaN</td>\n",
              "      <td>NaN</td>\n",
              "      <td>NaN</td>\n",
              "      <td>to</td>\n",
              "      <td>1.000000</td>\n",
              "      <td>0.000896</td>\n",
              "      <td>...</td>\n",
              "      <td>NaN</td>\n",
              "      <td>0.0</td>\n",
              "      <td>0.0</td>\n",
              "      <td>NaN</td>\n",
              "      <td>NaN</td>\n",
              "      <td>NaN</td>\n",
              "      <td>NaN</td>\n",
              "      <td>NaN</td>\n",
              "      <td>1.0</td>\n",
              "      <td>0</td>\n",
              "    </tr>\n",
              "    <tr>\n",
              "      <th>2</th>\n",
              "      <td>5</td>\n",
              "      <td>586561.txt</td>\n",
              "      <td>https://www.woolworthsrewards.com.au</td>\n",
              "      <td>35.0</td>\n",
              "      <td>www.woolworthsrewards.com.au</td>\n",
              "      <td>28.0</td>\n",
              "      <td>0.0</td>\n",
              "      <td>au</td>\n",
              "      <td>0.857143</td>\n",
              "      <td>NaN</td>\n",
              "      <td>...</td>\n",
              "      <td>1.0</td>\n",
              "      <td>0.0</td>\n",
              "      <td>1.0</td>\n",
              "      <td>33.0</td>\n",
              "      <td>7.0</td>\n",
              "      <td>8.0</td>\n",
              "      <td>15.0</td>\n",
              "      <td>NaN</td>\n",
              "      <td>2.0</td>\n",
              "      <td>1</td>\n",
              "    </tr>\n",
              "    <tr>\n",
              "      <th>3</th>\n",
              "      <td>6</td>\n",
              "      <td>NaN</td>\n",
              "      <td>NaN</td>\n",
              "      <td>31.0</td>\n",
              "      <td>NaN</td>\n",
              "      <td>NaN</td>\n",
              "      <td>NaN</td>\n",
              "      <td>com</td>\n",
              "      <td>0.562500</td>\n",
              "      <td>0.522907</td>\n",
              "      <td>...</td>\n",
              "      <td>1.0</td>\n",
              "      <td>0.0</td>\n",
              "      <td>1.0</td>\n",
              "      <td>24.0</td>\n",
              "      <td>5.0</td>\n",
              "      <td>14.0</td>\n",
              "      <td>NaN</td>\n",
              "      <td>NaN</td>\n",
              "      <td>NaN</td>\n",
              "      <td>1</td>\n",
              "    </tr>\n",
              "    <tr>\n",
              "      <th>4</th>\n",
              "      <td>11</td>\n",
              "      <td>412632.txt</td>\n",
              "      <td>NaN</td>\n",
              "      <td>NaN</td>\n",
              "      <td>www.nyprowrestling.com</td>\n",
              "      <td>22.0</td>\n",
              "      <td>0.0</td>\n",
              "      <td>NaN</td>\n",
              "      <td>1.000000</td>\n",
              "      <td>NaN</td>\n",
              "      <td>...</td>\n",
              "      <td>0.0</td>\n",
              "      <td>0.0</td>\n",
              "      <td>1.0</td>\n",
              "      <td>NaN</td>\n",
              "      <td>NaN</td>\n",
              "      <td>14.0</td>\n",
              "      <td>NaN</td>\n",
              "      <td>0.0</td>\n",
              "      <td>NaN</td>\n",
              "      <td>1</td>\n",
              "    </tr>\n",
              "    <tr>\n",
              "      <th>...</th>\n",
              "      <td>...</td>\n",
              "      <td>...</td>\n",
              "      <td>...</td>\n",
              "      <td>...</td>\n",
              "      <td>...</td>\n",
              "      <td>...</td>\n",
              "      <td>...</td>\n",
              "      <td>...</td>\n",
              "      <td>...</td>\n",
              "      <td>...</td>\n",
              "      <td>...</td>\n",
              "      <td>...</td>\n",
              "      <td>...</td>\n",
              "      <td>...</td>\n",
              "      <td>...</td>\n",
              "      <td>...</td>\n",
              "      <td>...</td>\n",
              "      <td>...</td>\n",
              "      <td>...</td>\n",
              "      <td>...</td>\n",
              "      <td>...</td>\n",
              "    </tr>\n",
              "    <tr>\n",
              "      <th>140399</th>\n",
              "      <td>235790</td>\n",
              "      <td>49490.txt</td>\n",
              "      <td>NaN</td>\n",
              "      <td>NaN</td>\n",
              "      <td>www.slavevoyages.org</td>\n",
              "      <td>NaN</td>\n",
              "      <td>0.0</td>\n",
              "      <td>NaN</td>\n",
              "      <td>1.000000</td>\n",
              "      <td>0.079963</td>\n",
              "      <td>...</td>\n",
              "      <td>NaN</td>\n",
              "      <td>0.0</td>\n",
              "      <td>1.0</td>\n",
              "      <td>23.0</td>\n",
              "      <td>3.0</td>\n",
              "      <td>6.0</td>\n",
              "      <td>NaN</td>\n",
              "      <td>12.0</td>\n",
              "      <td>NaN</td>\n",
              "      <td>1</td>\n",
              "    </tr>\n",
              "    <tr>\n",
              "      <th>140400</th>\n",
              "      <td>235791</td>\n",
              "      <td>NaN</td>\n",
              "      <td>https://www.greenmountainenergy.com</td>\n",
              "      <td>34.0</td>\n",
              "      <td>www.greenmountainenergy.com</td>\n",
              "      <td>NaN</td>\n",
              "      <td>0.0</td>\n",
              "      <td>com</td>\n",
              "      <td>1.000000</td>\n",
              "      <td>0.522907</td>\n",
              "      <td>...</td>\n",
              "      <td>1.0</td>\n",
              "      <td>NaN</td>\n",
              "      <td>1.0</td>\n",
              "      <td>26.0</td>\n",
              "      <td>NaN</td>\n",
              "      <td>NaN</td>\n",
              "      <td>169.0</td>\n",
              "      <td>15.0</td>\n",
              "      <td>40.0</td>\n",
              "      <td>1</td>\n",
              "    </tr>\n",
              "    <tr>\n",
              "      <th>140401</th>\n",
              "      <td>235792</td>\n",
              "      <td>NaN</td>\n",
              "      <td>https://www.leadcastingcall.com</td>\n",
              "      <td>30.0</td>\n",
              "      <td>www.leadcastingcall.com</td>\n",
              "      <td>23.0</td>\n",
              "      <td>NaN</td>\n",
              "      <td>NaN</td>\n",
              "      <td>1.000000</td>\n",
              "      <td>0.522907</td>\n",
              "      <td>...</td>\n",
              "      <td>0.0</td>\n",
              "      <td>0.0</td>\n",
              "      <td>1.0</td>\n",
              "      <td>25.0</td>\n",
              "      <td>NaN</td>\n",
              "      <td>NaN</td>\n",
              "      <td>87.0</td>\n",
              "      <td>1.0</td>\n",
              "      <td>93.0</td>\n",
              "      <td>1</td>\n",
              "    </tr>\n",
              "    <tr>\n",
              "      <th>140402</th>\n",
              "      <td>235794</td>\n",
              "      <td>NaN</td>\n",
              "      <td>https://www.fedarb.com</td>\n",
              "      <td>21.0</td>\n",
              "      <td>NaN</td>\n",
              "      <td>14.0</td>\n",
              "      <td>NaN</td>\n",
              "      <td>NaN</td>\n",
              "      <td>1.000000</td>\n",
              "      <td>0.522907</td>\n",
              "      <td>...</td>\n",
              "      <td>0.0</td>\n",
              "      <td>0.0</td>\n",
              "      <td>1.0</td>\n",
              "      <td>NaN</td>\n",
              "      <td>36.0</td>\n",
              "      <td>NaN</td>\n",
              "      <td>102.0</td>\n",
              "      <td>NaN</td>\n",
              "      <td>NaN</td>\n",
              "      <td>1</td>\n",
              "    </tr>\n",
              "    <tr>\n",
              "      <th>140403</th>\n",
              "      <td>235795</td>\n",
              "      <td>464776.txt</td>\n",
              "      <td>https://www.risenenergy.com</td>\n",
              "      <td>26.0</td>\n",
              "      <td>www.risenenergy.com</td>\n",
              "      <td>19.0</td>\n",
              "      <td>NaN</td>\n",
              "      <td>NaN</td>\n",
              "      <td>1.000000</td>\n",
              "      <td>0.522907</td>\n",
              "      <td>...</td>\n",
              "      <td>0.0</td>\n",
              "      <td>0.0</td>\n",
              "      <td>NaN</td>\n",
              "      <td>34.0</td>\n",
              "      <td>3.0</td>\n",
              "      <td>3.0</td>\n",
              "      <td>126.0</td>\n",
              "      <td>3.0</td>\n",
              "      <td>129.0</td>\n",
              "      <td>1</td>\n",
              "    </tr>\n",
              "  </tbody>\n",
              "</table>\n",
              "<p>140404 rows × 56 columns</p>\n",
              "</div>"
            ],
            "text/plain": [
              "            id     FILENAME                                   URL  URLLength  \\\n",
              "0            1          NaN             https://www.northcm.ac.th       24.0   \n",
              "1            4  8135291.txt                   http://uqr.to/1il1z        NaN   \n",
              "2            5   586561.txt  https://www.woolworthsrewards.com.au       35.0   \n",
              "3            6          NaN                                   NaN       31.0   \n",
              "4           11   412632.txt                                   NaN        NaN   \n",
              "...        ...          ...                                   ...        ...   \n",
              "140399  235790    49490.txt                                   NaN        NaN   \n",
              "140400  235791          NaN   https://www.greenmountainenergy.com       34.0   \n",
              "140401  235792          NaN       https://www.leadcastingcall.com       30.0   \n",
              "140402  235794          NaN                https://www.fedarb.com       21.0   \n",
              "140403  235795   464776.txt           https://www.risenenergy.com       26.0   \n",
              "\n",
              "                              Domain  DomainLength  IsDomainIP  TLD  \\\n",
              "0                  www.northcm.ac.th          17.0         0.0  NaN   \n",
              "1                                NaN           NaN         NaN   to   \n",
              "2       www.woolworthsrewards.com.au          28.0         0.0   au   \n",
              "3                                NaN           NaN         NaN  com   \n",
              "4             www.nyprowrestling.com          22.0         0.0  NaN   \n",
              "...                              ...           ...         ...  ...   \n",
              "140399          www.slavevoyages.org           NaN         0.0  NaN   \n",
              "140400   www.greenmountainenergy.com           NaN         0.0  com   \n",
              "140401       www.leadcastingcall.com          23.0         NaN  NaN   \n",
              "140402                           NaN          14.0         NaN  NaN   \n",
              "140403           www.risenenergy.com          19.0         NaN  NaN   \n",
              "\n",
              "        CharContinuationRate  TLDLegitimateProb  ...  Pay  Crypto  \\\n",
              "0                   0.800000                NaN  ...  0.0     0.0   \n",
              "1                   1.000000           0.000896  ...  NaN     0.0   \n",
              "2                   0.857143                NaN  ...  1.0     0.0   \n",
              "3                   0.562500           0.522907  ...  1.0     0.0   \n",
              "4                   1.000000                NaN  ...  0.0     0.0   \n",
              "...                      ...                ...  ...  ...     ...   \n",
              "140399              1.000000           0.079963  ...  NaN     0.0   \n",
              "140400              1.000000           0.522907  ...  1.0     NaN   \n",
              "140401              1.000000           0.522907  ...  0.0     0.0   \n",
              "140402              1.000000           0.522907  ...  0.0     0.0   \n",
              "140403              1.000000           0.522907  ...  0.0     0.0   \n",
              "\n",
              "        HasCopyrightInfo  NoOfImage  NoOfCSS  NoOfJS  NoOfSelfRef  \\\n",
              "0                    1.0        NaN      3.0     NaN         69.0   \n",
              "1                    0.0        NaN      NaN     NaN          NaN   \n",
              "2                    1.0       33.0      7.0     8.0         15.0   \n",
              "3                    1.0       24.0      5.0    14.0          NaN   \n",
              "4                    1.0        NaN      NaN    14.0          NaN   \n",
              "...                  ...        ...      ...     ...          ...   \n",
              "140399               1.0       23.0      3.0     6.0          NaN   \n",
              "140400               1.0       26.0      NaN     NaN        169.0   \n",
              "140401               1.0       25.0      NaN     NaN         87.0   \n",
              "140402               1.0        NaN     36.0     NaN        102.0   \n",
              "140403               NaN       34.0      3.0     3.0        126.0   \n",
              "\n",
              "        NoOfEmptyRef  NoOfExternalRef  label  \n",
              "0                NaN              NaN      1  \n",
              "1                NaN              1.0      0  \n",
              "2                NaN              2.0      1  \n",
              "3                NaN              NaN      1  \n",
              "4                0.0              NaN      1  \n",
              "...              ...              ...    ...  \n",
              "140399          12.0              NaN      1  \n",
              "140400          15.0             40.0      1  \n",
              "140401           1.0             93.0      1  \n",
              "140402           NaN              NaN      1  \n",
              "140403           3.0            129.0      1  \n",
              "\n",
              "[140404 rows x 56 columns]"
            ]
          },
          "execution_count": 16,
          "metadata": {},
          "output_type": "execute_result"
        }
      ],
      "source": [
        "# Example of reading a csv file from a gdrive link\n",
        "\n",
        "# Take the file id from the gdrive file url\n",
        "# https://drive.google.com/file/d/1ZUtiaty9RPXhpz5F2Sy3dFPHF4YIt5iU/view?usp=sharing => The file id is 1ZUtiaty9RPXhpz5F2Sy3dFPHF4YIt5iU\n",
        "# and then put it in this format:\n",
        "# https://drive.google.com/uc?id={file_id}\n",
        "# Don't forget to change the access to public\n",
        "\n",
        "df = pd.read_csv('https://drive.google.com/uc?id=1_ACviZ7hMl05xJUJMSchSMDTMV81Tp_-')\n",
        "df"
      ]
    },
    {
      "cell_type": "markdown",
      "metadata": {
        "id": "gvx-gT3bLfHM"
      },
      "source": [
        "# 1. Split Training Set and Validation Set\n",
        "\n",
        "Splitting the training and validation set works as an early diagnostic towards the performance of the model we train. This is done before the preprocessing steps to **avoid data leakage inbetween the sets**. If you want to use k-fold cross-validation, split the data later and do the cleaning and preprocessing separately for each split.\n",
        "\n",
        "Note: For training, you should use the data contained in the `train` folder given by the TA. The `test` data is only used for kaggle submission."
      ]
    },
    {
      "cell_type": "code",
      "execution_count": 26,
      "metadata": {
        "id": "4yWCUFFBLfHM"
      },
      "outputs": [
        {
          "name": "stdout",
          "output_type": "stream",
          "text": [
            "Original dataset shape: (140404, 56)\n",
            "Training set shape: (112323, 56)\n",
            "Validation set shape: (28081, 56)\n",
            "\n",
            "Class distribution:\n",
            "Original set:\n",
            " label\n",
            "1    0.924831\n",
            "0    0.075169\n",
            "Name: proportion, dtype: float64\n",
            "\n",
            "Training set:\n",
            " label\n",
            "1    0.924833\n",
            "0    0.075167\n",
            "Name: proportion, dtype: float64\n",
            "\n",
            "Validation set:\n",
            " label\n",
            "1    0.924825\n",
            "0    0.075175\n",
            "Name: proportion, dtype: float64\n"
          ]
        }
      ],
      "source": [
        "# Split training set and validation set here, store into variables train_set and val_set.\n",
        "# Remember to also keep the original training set before splitting. This will come important later.\n",
        "# train_set, val_set = ...\n",
        "\n",
        "# Menyimpan original training set untuk digunakan nanti\n",
        "original_train_set = df.copy()\n",
        "\n",
        "# Memisahkan features (x) dan target (y)\n",
        "x = df.drop('label', axis=1) # drop target = label\n",
        "y = df['label']\n",
        "\n",
        "# Split into training dan validation sets (80-20 split with stratification)\n",
        "x_train, x_val, y_train, y_val = train_test_split(\n",
        "    x,\n",
        "    y,\n",
        "    test_size=0.2,\n",
        "    random_state=42,  # Untuk reproducibility\n",
        "    stratify=y  # Maintain class distribution dalam seluruh set\n",
        ")\n",
        "\n",
        "train_set = pd.concat([x_train, y_train], axis=1)\n",
        "val_set = pd.concat([x_val, y_val], axis=1)\n",
        "\n",
        "print(\"Original dataset shape:\", original_train_set.shape)\n",
        "print(\"Training set shape:\", train_set.shape)\n",
        "print(\"Validation set shape:\", val_set.shape)\n",
        "\n",
        "print(\"\\nClass distribution:\")\n",
        "print(\"Original set:\\n\", original_train_set['label'].value_counts(normalize=True))\n",
        "print(\"\\nTraining set:\\n\", train_set['label'].value_counts(normalize=True))\n",
        "print(\"\\nValidation set:\\n\", val_set['label'].value_counts(normalize=True))"
      ]
    },
    {
      "cell_type": "code",
      "execution_count": 27,
      "metadata": {},
      "outputs": [
        {
          "name": "stdout",
          "output_type": "stream",
          "text": [
            "\n",
            "Actual training set ratio: 0.80\n"
          ]
        }
      ],
      "source": [
        "# Memastikan tidak ada data yang hilang setelah splitting\n",
        "assert len(original_train_set) == len(train_set) + len(val_set)\n",
        "\n",
        "# Memastikan tidak ada data yang overlap antara train dan validation\n",
        "assert set(train_set.index).intersection(set(val_set.index)) == set()\n",
        "\n",
        "# Menyimpan index splitting untuk reproducibility nantinya\n",
        "train_idx = train_set.index\n",
        "val_idx = val_set.index\n",
        "\n",
        "# Mengecek rasio splitting\n",
        "split_ratio = len(train_set) / len(original_train_set)\n",
        "print(f\"\\nActual training set ratio: {split_ratio:.2f}\")"
      ]
    },
    {
      "cell_type": "markdown",
      "metadata": {
        "id": "IC14lmo_LfHN"
      },
      "source": [
        "# 2. Data Cleaning and Preprocessing\n",
        "\n",
        "This step is the first thing to be done once a Data Scientist have grasped a general knowledge of the data. Raw data is **seldom ready for training**, therefore steps need to be taken to clean and format the data for the Machine Learning model to interpret.\n",
        "\n",
        "By performing data cleaning and preprocessing, you ensure that your dataset is ready for model training, leading to more accurate and reliable machine learning results. These steps are essential for transforming raw data into a format that machine learning algorithms can effectively learn from and make predictions.\n",
        "\n",
        "We will give some common methods for you to try, but you only have to **at least implement one method for each process**. For each step that you will do, **please explain the reason why did you do that process. Write it in a markdown cell under the code cell you wrote.**"
      ]
    },
    {
      "cell_type": "markdown",
      "metadata": {
        "id": "p95_A8hSLfHY"
      },
      "source": [
        "## A. Data Cleaning\n",
        "\n",
        "**Data cleaning** is the crucial first step in preparing your dataset for machine learning. Raw data collected from various sources is often messy and may contain errors, missing values, and inconsistencies. Data cleaning involves the following steps:\n",
        "\n",
        "1. **Handling Missing Data:** Identify and address missing values in the dataset. This can include imputing missing values, removing rows or columns with excessive missing data, or using more advanced techniques like interpolation.\n",
        "\n",
        "2. **Dealing with Outliers:** Identify and handle outliers, which are data points significantly different from the rest of the dataset. Outliers can be removed or transformed to improve model performance.\n",
        "\n",
        "3. **Data Validation:** Check for data integrity and consistency. Ensure that data types are correct, categorical variables have consistent labels, and numerical values fall within expected ranges.\n",
        "\n",
        "4. **Removing Duplicates:** Identify and remove duplicate rows, as they can skew the model's training process and evaluation metrics.\n",
        "\n",
        "5. **Feature Engineering**: Create new features or modify existing ones to extract relevant information. This step can involve scaling, normalizing, or encoding features for better model interpretability."
      ]
    },
    {
      "cell_type": "markdown",
      "metadata": {
        "id": "_wruGao9LfHZ"
      },
      "source": [
        "### I. Handling Missing Data\n",
        "\n",
        "Missing data can adversely affect the performance and accuracy of machine learning models. There are several strategies to handle missing data in machine learning:\n",
        "\n",
        "1. **Data Imputation:**\n",
        "\n",
        "    a. **Mean, Median, or Mode Imputation:** For numerical features, you can replace missing values with the mean, median, or mode of the non-missing values in the same feature. This method is simple and often effective when data is missing at random.\n",
        "\n",
        "    b. **Constant Value Imputation:** You can replace missing values with a predefined constant value (e.g., 0) if it makes sense for your dataset and problem.\n",
        "\n",
        "    c. **Imputation Using Predictive Models:** More advanced techniques involve using predictive models to estimate missing values. For example, you can train a regression model to predict missing numerical values or a classification model to predict missing categorical values.\n",
        "\n",
        "2. **Deletion of Missing Data:**\n",
        "\n",
        "    a. **Listwise Deletion:** In cases where the amount of missing data is relatively small, you can simply remove rows with missing values from your dataset. However, this approach can lead to a loss of valuable information.\n",
        "\n",
        "    b. **Column (Feature) Deletion:** If a feature has a large number of missing values and is not critical for your analysis, you can consider removing that feature altogether.\n",
        "\n",
        "3. **Domain-Specific Strategies:**\n",
        "\n",
        "    a. **Domain Knowledge:** In some cases, domain knowledge can guide the imputation process. For example, if you know that missing values are related to a specific condition, you can impute them accordingly.\n",
        "\n",
        "4. **Imputation Libraries:**\n",
        "\n",
        "    a. **Scikit-Learn:** Scikit-Learn provides a `SimpleImputer` class that can handle basic imputation strategies like mean, median, and mode imputation.\n",
        "\n",
        "    b. **Fancyimpute:** Fancyimpute is a Python library that offers more advanced imputation techniques, including matrix factorization, k-nearest neighbors, and deep learning-based methods.\n",
        "\n",
        "The choice of imputation method should be guided by the nature of your data, the amount of missing data, the problem you are trying to solve, and the assumptions you are willing to make."
      ]
    },
    {
      "cell_type": "code",
      "execution_count": 21,
      "metadata": {
        "id": "ucZNfCkiLfHZ"
      },
      "outputs": [
        {
          "name": "stdout",
          "output_type": "stream",
          "text": [
            "Kolom Binary dalam Dataset:\n",
            "====================================================================================================\n",
            "Jumlah kolom binary: 20\n",
            "\n",
            "Daftar kolom binary:\n",
            "\n",
            "IsDomainIP:\n",
            "Value counts: 0:  98226, 1:     48  |  Percentages: 0:  69.96%, 1:   0.03%\n",
            "\n",
            "HasObfuscation:\n",
            "Value counts: 0:  74654, 1:     30  |  Percentages: 0:  53.17%, 1:   0.02%\n",
            "\n",
            "IsHTTPS:\n",
            "Value counts: 0:   3483, 1:  87559  |  Percentages: 0:   2.48%, 1:  62.36%\n",
            "\n",
            "HasTitle:\n",
            "Value counts: 0:   2390, 1:  93435  |  Percentages: 0:   1.70%, 1:  66.55%\n",
            "\n",
            "HasFavicon:\n",
            "Value counts: 0:  38407, 1:  43575  |  Percentages: 0:  27.35%, 1:  31.04%\n",
            "\n",
            "Robots:\n",
            "Value counts: 0:  57167, 1:  36505  |  Percentages: 0:  40.72%, 1:  26.00%\n",
            "\n",
            "IsResponsive:\n",
            "Value counts: 0:  18287, 1:  79575  |  Percentages: 0:  13.02%, 1:  56.68%\n",
            "\n",
            "NoOfURLRedirect:\n",
            "Value counts: 0:  64135, 1:   8885  |  Percentages: 0:  45.68%, 1:   6.33%\n",
            "\n",
            "NoOfSelfRedirect:\n",
            "Value counts: 0:  71570, 1:   2119  |  Percentages: 0:  50.97%, 1:   1.51%\n",
            "\n",
            "HasDescription:\n",
            "Value counts: 0:  26951, 1:  58814  |  Percentages: 0:  19.20%, 1:  41.89%\n",
            "\n",
            "HasExternalFormSubmit:\n",
            "Value counts: 0:  78984, 1:   5828  |  Percentages: 0:  56.25%, 1:   4.15%\n",
            "\n",
            "HasSocialNet:\n",
            "Value counts: 0:  19182, 1:  53223  |  Percentages: 0:  13.66%, 1:  37.91%\n",
            "\n",
            "HasSubmitButton:\n",
            "Value counts: 0:  30248, 1:  48536  |  Percentages: 0:  21.54%, 1:  34.57%\n",
            "\n",
            "HasHiddenFields:\n",
            "Value counts: 0:  43280, 1:  53329  |  Percentages: 0:  30.83%, 1:  37.98%\n",
            "\n",
            "HasPasswordField:\n",
            "Value counts: 0:  64089, 1:   9780  |  Percentages: 0:  45.65%, 1:   6.97%\n",
            "\n",
            "Bank:\n",
            "Value counts: 0:  70682, 1:  14726  |  Percentages: 0:  50.34%, 1:  10.49%\n",
            "\n",
            "Pay:\n",
            "Value counts: 0:  63617, 1:  33613  |  Percentages: 0:  45.31%, 1:  23.94%\n",
            "\n",
            "Crypto:\n",
            "Value counts: 0:  87099, 1:   3108  |  Percentages: 0:  62.03%, 1:   2.21%\n",
            "\n",
            "HasCopyrightInfo:\n",
            "Value counts: 0:  18152, 1:  54907  |  Percentages: 0:  12.93%, 1:  39.11%\n",
            "\n",
            "label:\n",
            "Value counts: 0:  10554, 1: 129850  |  Percentages: 0:   7.52%, 1:  92.48%\n"
          ]
        }
      ],
      "source": [
        "# Membuat fungsi untuk kolom binary terlebih dahulu sebelum mengidentifikasi jumlah uniques values untuk fitur categorical\n",
        "# Hal ini dikarenakan data yang binary termasuk dalam categorical\n",
        "\n",
        "# Fungsi untuk mengidentifikasi kolom binary\n",
        "def identify_binary_columns(df):\n",
        "    binary_cols = []\n",
        "\n",
        "    for column in df.columns:\n",
        "       # Mengambil nilai unik, mengabaikan missing values (nan)\n",
        "        unique_values = df[column].dropna().unique()\n",
        "\n",
        "        # Cek apakah kolom memiliki tepat 2 nilai unik dan nilai-nilainya adalah 0 dan 1\n",
        "        if len(unique_values) == 2 and set(unique_values) == {0, 1}:\n",
        "            binary_cols.append(column)\n",
        "\n",
        "    return binary_cols\n",
        "\n",
        "# Identifikasi kolom binary\n",
        "binary_columns = identify_binary_columns(original_train_set)\n",
        "\n",
        "# Tampilkan hasil\n",
        "print(\"Kolom Binary dalam Dataset:\")\n",
        "print(\"=\" * 100)\n",
        "print(f\"Jumlah kolom binary: {len(binary_columns)}\")\n",
        "print(\"\\nDaftar kolom binary:\")\n",
        "\n",
        "# Format tampilan ke samping\n",
        "for col in binary_columns:\n",
        "    # Bulatkan nilai sebelum menghitung\n",
        "    rounded_values = original_train_set[col].round()\n",
        "    value_counts = rounded_values.value_counts()\n",
        "    percentages = (value_counts/len(original_train_set)*100).round(2)\n",
        "\n",
        "    print(f\"\\n{col}:\")\n",
        "    print(f\"Value counts: 0: {value_counts.get(0.0, 0):>6}, 1: {value_counts.get(1.0, 0):>6}\", end=\"  |  \")\n",
        "    print(f\"Percentages: 0: {percentages.get(0.0, 0):>6.2f}%, 1: {percentages.get(1.0, 0):>6.2f}%\")"
      ]
    },
    {
      "cell_type": "code",
      "execution_count": 22,
      "metadata": {},
      "outputs": [
        {
          "name": "stdout",
          "output_type": "stream",
          "text": [
            "\n",
            "Category Identification:\n",
            "====================================================================================================\n",
            "                   Feature Datatype    Category\n",
            "                        id    int64   Numerical\n",
            "                  FILENAME   object Categorical\n",
            "                       URL   object Categorical\n",
            "                 URLLength  float64   Numerical\n",
            "                    Domain   object Categorical\n",
            "              DomainLength  float64   Numerical\n",
            "                IsDomainIP  float64 Categorical\n",
            "                       TLD   object Categorical\n",
            "      CharContinuationRate  float64   Numerical\n",
            "         TLDLegitimateProb  float64   Numerical\n",
            "               URLCharProb  float64   Numerical\n",
            "                 TLDLength  float64   Numerical\n",
            "             NoOfSubDomain  float64   Numerical\n",
            "            HasObfuscation  float64 Categorical\n",
            "        NoOfObfuscatedChar  float64   Numerical\n",
            "          ObfuscationRatio  float64   Numerical\n",
            "          NoOfLettersInURL  float64   Numerical\n",
            "          LetterRatioInURL  float64   Numerical\n",
            "           NoOfDegitsInURL  float64   Numerical\n",
            "           DegitRatioInURL  float64   Numerical\n",
            "           NoOfEqualsInURL  float64   Numerical\n",
            "            NoOfQMarkInURL  float64   Numerical\n",
            "        NoOfAmpersandInURL  float64   Numerical\n",
            "NoOfOtherSpecialCharsInURL  float64   Numerical\n",
            "     SpacialCharRatioInURL  float64   Numerical\n",
            "                   IsHTTPS  float64 Categorical\n",
            "                LineOfCode  float64   Numerical\n",
            "         LargestLineLength  float64   Numerical\n",
            "                  HasTitle  float64 Categorical\n",
            "                     Title   object Categorical\n",
            "     DomainTitleMatchScore  float64   Numerical\n",
            "        URLTitleMatchScore  float64   Numerical\n",
            "                HasFavicon  float64 Categorical\n",
            "                    Robots  float64 Categorical\n",
            "              IsResponsive  float64 Categorical\n",
            "           NoOfURLRedirect  float64 Categorical\n",
            "          NoOfSelfRedirect  float64 Categorical\n",
            "            HasDescription  float64 Categorical\n",
            "                 NoOfPopup  float64   Numerical\n",
            "                NoOfiFrame  float64   Numerical\n",
            "     HasExternalFormSubmit  float64 Categorical\n",
            "              HasSocialNet  float64 Categorical\n",
            "           HasSubmitButton  float64 Categorical\n",
            "           HasHiddenFields  float64 Categorical\n",
            "          HasPasswordField  float64 Categorical\n",
            "                      Bank  float64 Categorical\n",
            "                       Pay  float64 Categorical\n",
            "                    Crypto  float64 Categorical\n",
            "          HasCopyrightInfo  float64 Categorical\n",
            "                 NoOfImage  float64   Numerical\n",
            "                   NoOfCSS  float64   Numerical\n",
            "                    NoOfJS  float64   Numerical\n",
            "               NoOfSelfRef  float64   Numerical\n",
            "              NoOfEmptyRef  float64   Numerical\n",
            "           NoOfExternalRef  float64   Numerical\n",
            "                     label    int64 Categorical\n",
            "\n",
            "Information:\n",
            "====================================================================================================\n",
            "Total Features: 56\n",
            "Numerical Features: 31 (55.36%)\n",
            "Categorical Features: 25 (44.64%)\n"
          ]
        }
      ],
      "source": [
        "# Fungsi untuk mengidentifikasi DataType dan Category dari masing-masing Feature yang ada\n",
        "def category_identification(df, binary_columns):\n",
        "\n",
        "    # Buat DataFrame untuk summary\n",
        "    summary = pd.DataFrame(columns=['Feature', 'Datatype', 'Category'])\n",
        "\n",
        "    # Isi DataFrame dengan informasi setiap kolom\n",
        "    for i, column in enumerate(df.columns, 1):\n",
        "        datatype = str(df[column].dtype)\n",
        "\n",
        "        # Tentukan category berdasarkan kriteria\n",
        "        if column in binary_columns:\n",
        "            category = 'Categorical'\n",
        "        elif datatype == 'object':\n",
        "            category = 'Categorical'\n",
        "        else:\n",
        "            category = 'Numerical'\n",
        "\n",
        "        # Tambahkan ke DataFrame summary\n",
        "        row = pd.DataFrame({\n",
        "            'Feature': [column],\n",
        "            'Datatype': [datatype],\n",
        "            'Category': [category]\n",
        "        })\n",
        "        summary = pd.concat([summary, row], ignore_index=True)\n",
        "    # Menampilkan hasil\n",
        "    print(\"\\nCategory Identification:\")\n",
        "    print(\"=\" * 100)\n",
        "    print(summary.to_string(index=False))\n",
        "\n",
        "    return summary\n",
        "\n",
        "# Menjalankan fungsi\n",
        "summary_df = category_identification(df, binary_columns)\n",
        "\n",
        "# Hitung jumlah masing-masing kategori\n",
        "category_counts = summary_df['Category'].value_counts()\n",
        "\n",
        "# Menampilkan informasi tambahan\n",
        "print(\"\\nInformation:\")\n",
        "print(\"=\" * 100)\n",
        "print(f\"Total Features: {len(summary_df)}\")\n",
        "print(f\"Numerical Features: {category_counts.get('Numerical', 0)} ({(category_counts.get('Numerical', 0)/len(summary_df)*100):.2f}%)\")\n",
        "print(f\"Categorical Features: {category_counts.get('Categorical', 0)} ({(category_counts.get('Categorical', 0)/len(summary_df)*100):.2f}%)\")"
      ]
    },
    {
      "cell_type": "code",
      "execution_count": 25,
      "metadata": {},
      "outputs": [
        {
          "name": "stdout",
          "output_type": "stream",
          "text": [
            "Missing values in dataset:\n",
            "id                                0\n",
            "FILENAME                      57532\n",
            "URL                           43487\n",
            "URLLength                     60639\n",
            "Domain                        70197\n",
            "DomainLength                  46319\n",
            "IsDomainIP                    42130\n",
            "TLD                           45399\n",
            "CharContinuationRate          48042\n",
            "TLDLegitimateProb             52873\n",
            "URLCharProb                   52071\n",
            "TLDLength                     47731\n",
            "NoOfSubDomain                 44060\n",
            "HasObfuscation                65720\n",
            "NoOfObfuscatedChar            66798\n",
            "ObfuscationRatio              64598\n",
            "NoOfLettersInURL              63338\n",
            "LetterRatioInURL              65746\n",
            "NoOfDegitsInURL               58810\n",
            "DegitRatioInURL               53508\n",
            "NoOfEqualsInURL               61578\n",
            "NoOfQMarkInURL                44101\n",
            "NoOfAmpersandInURL            45387\n",
            "NoOfOtherSpecialCharsInURL    47629\n",
            "SpacialCharRatioInURL         62834\n",
            "IsHTTPS                       49362\n",
            "LineOfCode                    69153\n",
            "LargestLineLength             67928\n",
            "HasTitle                      44579\n",
            "Title                         58247\n",
            "DomainTitleMatchScore         49997\n",
            "URLTitleMatchScore            52216\n",
            "HasFavicon                    58422\n",
            "Robots                        46732\n",
            "IsResponsive                  42542\n",
            "NoOfURLRedirect               67384\n",
            "NoOfSelfRedirect              66715\n",
            "HasDescription                54639\n",
            "NoOfPopup                     43353\n",
            "NoOfiFrame                    49944\n",
            "HasExternalFormSubmit         55592\n",
            "HasSocialNet                  67999\n",
            "HasSubmitButton               61620\n",
            "HasHiddenFields               43795\n",
            "HasPasswordField              66535\n",
            "Bank                          54996\n",
            "Pay                           43174\n",
            "Crypto                        50197\n",
            "HasCopyrightInfo              67345\n",
            "NoOfImage                     50472\n",
            "NoOfCSS                       67134\n",
            "NoOfJS                        60801\n",
            "NoOfSelfRef                   48132\n",
            "NoOfEmptyRef                  42686\n",
            "NoOfExternalRef               69379\n",
            "label                             0\n",
            "dtype: int64\n",
            "\n",
            "Percentage of missing values (%):\n",
            "id                             0.00\n",
            "FILENAME                      40.98\n",
            "URL                           30.97\n",
            "URLLength                     43.19\n",
            "Domain                        50.00\n",
            "DomainLength                  32.99\n",
            "IsDomainIP                    30.01\n",
            "TLD                           32.33\n",
            "CharContinuationRate          34.22\n",
            "TLDLegitimateProb             37.66\n",
            "URLCharProb                   37.09\n",
            "TLDLength                     34.00\n",
            "NoOfSubDomain                 31.38\n",
            "HasObfuscation                46.81\n",
            "NoOfObfuscatedChar            47.58\n",
            "ObfuscationRatio              46.01\n",
            "NoOfLettersInURL              45.11\n",
            "LetterRatioInURL              46.83\n",
            "NoOfDegitsInURL               41.89\n",
            "DegitRatioInURL               38.11\n",
            "NoOfEqualsInURL               43.86\n",
            "NoOfQMarkInURL                31.41\n",
            "NoOfAmpersandInURL            32.33\n",
            "NoOfOtherSpecialCharsInURL    33.92\n",
            "SpacialCharRatioInURL         44.75\n",
            "IsHTTPS                       35.16\n",
            "LineOfCode                    49.25\n",
            "LargestLineLength             48.38\n",
            "HasTitle                      31.75\n",
            "Title                         41.49\n",
            "DomainTitleMatchScore         35.61\n",
            "URLTitleMatchScore            37.19\n",
            "HasFavicon                    41.61\n",
            "Robots                        33.28\n",
            "IsResponsive                  30.30\n",
            "NoOfURLRedirect               47.99\n",
            "NoOfSelfRedirect              47.52\n",
            "HasDescription                38.92\n",
            "NoOfPopup                     30.88\n",
            "NoOfiFrame                    35.57\n",
            "HasExternalFormSubmit         39.59\n",
            "HasSocialNet                  48.43\n",
            "HasSubmitButton               43.89\n",
            "HasHiddenFields               31.19\n",
            "HasPasswordField              47.39\n",
            "Bank                          39.17\n",
            "Pay                           30.75\n",
            "Crypto                        35.75\n",
            "HasCopyrightInfo              47.97\n",
            "NoOfImage                     35.95\n",
            "NoOfCSS                       47.81\n",
            "NoOfJS                        43.30\n",
            "NoOfSelfRef                   34.28\n",
            "NoOfEmptyRef                  30.40\n",
            "NoOfExternalRef               49.41\n",
            "label                          0.00\n",
            "dtype: float64\n"
          ]
        }
      ],
      "source": [
        "# Cek missing values\n",
        "print(\"Missing values in dataset:\")\n",
        "print(original_train_set.isnull().sum())\n",
        "\n",
        "# Persentase missing values\n",
        "print(\"\\nPercentage of missing values (%):\")\n",
        "print((original_train_set.isnull().sum() / len(df) * 100).round(2))"
      ]
    },
    {
      "cell_type": "code",
      "execution_count": null,
      "metadata": {},
      "outputs": [],
      "source": [
        "# Handling missing value setelah dilakukan pengecekan missing values\n",
        "# Untuk features dengan missing values 30-50%,\n",
        "# menggunakan SimpleImputer untuk features boolean/categorical\n",
        "# dan menggunakan SimpleImputer dengan strategy='median' untuk features numerical\n",
        "\n",
        "categorical_features = ['IsDomainIP', 'HasTitle', 'IsResponsive', 'HasHiddenFields', 'NoOfPopup']\n",
        "categorical_imputer = SimpleImputer(strategy='most_frequent')\n",
        "\n",
        "numeric_features = ['DomainLength', 'TLD', 'NoOfSubDomain', 'NoOfQMarkInURL']\n",
        "numeric_imputer = SimpleImputer(strategy='median')\n",
        "\n",
        "# Untuk features dengan missing values 33-45%,\n",
        "# menggunakan KNN Imputer untuk features yang saling berkorelasi\n",
        "\n",
        "features_for_knn = ['URLLength', 'NoOfDegitsInURL', 'NoOfEqualsInURL', 'HasSubmitButton']\n",
        "knn_imputer = KNNImputer(n_neighbors=5)\n",
        "\n",
        "# Untuk features dengan missing values >45%,\n",
        "# features tersebut akan di-drop\n"
      ]
    },
    {
      "cell_type": "markdown",
      "metadata": {
        "id": "zgrSMcK75VY_"
      },
      "source": [
        "### II. Dealing with Outliers\n",
        "\n",
        "Outliers are data points that significantly differ from the majority of the data. They can be unusually high or low values that do not fit the pattern of the rest of the dataset. Outliers can significantly impact model performance, so it is important to handle them properly.\n",
        "\n",
        "Some methods to handle outliers:\n",
        "1. **Imputation**: Replace with mean, median, or a boundary value.\n",
        "2. **Clipping**: Cap values to upper and lower limits.\n",
        "3. **Transformation**: Use log, square root, or power transformations to reduce their influence.\n",
        "4. **Model-Based**: Use algorithms robust to outliers (e.g., tree-based models, Huber regression)."
      ]
    },
    {
      "cell_type": "code",
      "execution_count": null,
      "metadata": {
        "id": "CgbZ6Lv17Uf0"
      },
      "outputs": [],
      "source": []
    },
    {
      "cell_type": "markdown",
      "metadata": {
        "id": "aO0ZEZ-s6Lu-"
      },
      "source": [
        "### III. Remove Duplicates\n",
        "Handling duplicate values is crucial because they can compromise data integrity, leading to inaccurate analysis and insights. Duplicate entries can bias machine learning models, causing overfitting and reducing their ability to generalize to new data. They also inflate the dataset size unnecessarily, increasing computational costs and processing times. Additionally, duplicates can distort statistical measures and lead to inconsistencies, ultimately affecting the reliability of data-driven decisions and reporting. Ensuring data quality by removing duplicates is essential for accurate, efficient, and consistent analysis."
      ]
    },
    {
      "cell_type": "code",
      "execution_count": null,
      "metadata": {
        "id": "BHCkkZ-v7iF8"
      },
      "outputs": [],
      "source": [
        "# Write your code here"
      ]
    },
    {
      "cell_type": "markdown",
      "metadata": {
        "id": "eycPASmMLfHa"
      },
      "source": [
        "### IV. Feature Engineering\n",
        "\n",
        "**Feature engineering** involves creating new features (input variables) or transforming existing ones to improve the performance of machine learning models. Feature engineering aims to enhance the model's ability to learn patterns and make accurate predictions from the data. It's often said that \"good features make good models.\"\n",
        "\n",
        "1. **Feature Selection:** Feature engineering can involve selecting the most relevant and informative features from the dataset. Removing irrelevant or redundant features not only simplifies the model but also reduces the risk of overfitting.\n",
        "\n",
        "2. **Creating New Features:** Sometimes, the existing features may not capture the underlying patterns effectively. In such cases, engineers create new features that provide additional information. For example:\n",
        "   \n",
        "   - **Polynomial Features:** Engineers may create new features by taking the square, cube, or other higher-order terms of existing numerical features. This can help capture nonlinear relationships.\n",
        "   \n",
        "   - **Interaction Features:** Interaction features are created by combining two or more existing features. For example, if you have features \"length\" and \"width,\" you can create an \"area\" feature by multiplying them.\n",
        "\n",
        "3. **Binning or Discretization:** Continuous numerical features can be divided into bins or categories. For instance, age values can be grouped into bins like \"child,\" \"adult,\" and \"senior.\"\n",
        "\n",
        "4. **Domain-Specific Feature Engineering:** Depending on the domain and problem, engineers may create domain-specific features. For example, in fraud detection, features related to transaction history and user behavior may be engineered to identify anomalies.\n",
        "\n",
        "Feature engineering is both a creative and iterative process. It requires a deep understanding of the data, domain knowledge, and experimentation to determine which features will enhance the model's predictive power."
      ]
    },
    {
      "cell_type": "code",
      "execution_count": null,
      "metadata": {
        "id": "UoXEV6wkLfHa"
      },
      "outputs": [],
      "source": [
        "# Write your code here"
      ]
    },
    {
      "cell_type": "markdown",
      "metadata": {
        "id": "xw11_49xLfHb"
      },
      "source": [
        "## B. Data Preprocessing\n",
        "\n",
        "**Data preprocessing** is a broader step that encompasses both data cleaning and additional transformations to make the data suitable for machine learning algorithms. Its primary goals are:\n",
        "\n",
        "1. **Feature Scaling:** Ensure that numerical features have similar scales. Common techniques include Min-Max scaling (scaling to a specific range) or standardization (mean-centered, unit variance).\n",
        "\n",
        "2. **Encoding Categorical Variables:** Machine learning models typically work with numerical data, so categorical variables need to be encoded. This can be done using one-hot encoding, label encoding, or more advanced methods like target encoding.\n",
        "\n",
        "3. **Handling Imbalanced Classes:** If dealing with imbalanced classes in a binary classification task, apply techniques such as oversampling, undersampling, or using different evaluation metrics to address class imbalance.\n",
        "\n",
        "4. **Dimensionality Reduction:** Reduce the number of features using techniques like Principal Component Analysis (PCA) or feature selection to simplify the model and potentially improve its performance.\n",
        "\n",
        "5. **Normalization:** Normalize data to achieve a standard distribution. This is particularly important for algorithms that assume normally distributed data."
      ]
    },
    {
      "cell_type": "markdown",
      "metadata": {
        "id": "rVyVnA1hLfHd"
      },
      "source": [
        "### Notes on Preprocessing processes\n",
        "\n",
        "It is advised to create functions or classes that have the same/similar type of inputs and outputs, so you can add, remove, or swap the order of the processes easily. You can implement the functions or classes by yourself\n",
        "\n",
        "or\n",
        "\n",
        "use `sklearn` library. To create a new preprocessing component in `sklearn`, implement a corresponding class that includes:\n",
        "1. Inheritance to `BaseEstimator` and `TransformerMixin`\n",
        "2. The method `fit`\n",
        "3. The method `transform`"
      ]
    },
    {
      "cell_type": "code",
      "execution_count": null,
      "metadata": {
        "id": "WbxHt-5eKz_I"
      },
      "outputs": [],
      "source": [
        "# Example\n",
        "\n",
        "# from sklearn.base import BaseEstimator, TransformerMixin\n",
        "\n",
        "# class FeatureEncoder(BaseEstimator, TransformerMixin):\n",
        "\n",
        "#     def fit(self, X, y=None):\n",
        "\n",
        "#         # Fit the encoder here\n",
        "\n",
        "#         return self\n",
        "\n",
        "#     def transform(self, X):\n",
        "#         X_encoded = X.copy()\n",
        "\n",
        "#         # Encode the categorical variables here\n",
        "\n",
        "#         return X_encoded"
      ]
    },
    {
      "cell_type": "markdown",
      "metadata": {
        "id": "WhCgOl4xLfHb"
      },
      "source": [
        "### I. Feature Scaling\n",
        "\n",
        "**Feature scaling** is a preprocessing technique used in machine learning to standardize the range of independent variables or features of data. The primary goal of feature scaling is to ensure that all features contribute equally to the training process and that machine learning algorithms can work effectively with the data.\n",
        "\n",
        "Here are the main reasons why feature scaling is important:\n",
        "\n",
        "1. **Algorithm Sensitivity:** Many machine learning algorithms are sensitive to the scale of input features. If the scales of features are significantly different, some algorithms may perform poorly or take much longer to converge.\n",
        "\n",
        "2. **Distance-Based Algorithms:** Algorithms that rely on distances or similarities between data points, such as k-nearest neighbors (KNN) and support vector machines (SVM), can be influenced by feature scales. Features with larger scales may dominate the distance calculations.\n",
        "\n",
        "3. **Regularization:** Regularization techniques, like L1 (Lasso) and L2 (Ridge) regularization, add penalty terms based on feature coefficients. Scaling ensures that all features are treated equally in the regularization process.\n",
        "\n",
        "Common methods for feature scaling include:\n",
        "\n",
        "1. **Min-Max Scaling (Normalization):** This method scales features to a specific range, typically [0, 1]. It's done using the following formula:\n",
        "\n",
        "   $$X' = \\frac{X - X_{min}}{X_{max} - X_{min}}$$\n",
        "\n",
        "   - Here, $X$ is the original feature value, $X_{min}$ is the minimum value of the feature, and $X_{max}$ is the maximum value of the feature.  \n",
        "<br />\n",
        "<br />\n",
        "2. **Standardization (Z-score Scaling):** This method scales features to have a mean (average) of 0 and a standard deviation of 1. It's done using the following formula:\n",
        "\n",
        "   $$X' = \\frac{X - \\mu}{\\sigma}$$\n",
        "\n",
        "   - $X$ is the original feature value, $\\mu$ is the mean of the feature, and $\\sigma$ is the standard deviation of the feature.  \n",
        "<br />\n",
        "<br />\n",
        "3. **Robust Scaling:** Robust scaling is a method that scales features to the interquartile range (IQR) and is less affected by outliers. It's calculated as:\n",
        "\n",
        "   $$X' = \\frac{X - Q1}{Q3 - Q1}$$\n",
        "\n",
        "   - $X$ is the original feature value, $Q1$ is the first quartile (25th percentile), and $Q3$ is the third quartile (75th percentile) of the feature.  \n",
        "<br />\n",
        "<br />\n",
        "4. **Log Transformation:** In cases where data is highly skewed or has a heavy-tailed distribution, taking the logarithm of the feature values can help stabilize the variance and improve scaling.\n",
        "\n",
        "The choice of scaling method depends on the characteristics of your data and the requirements of your machine learning algorithm. **Min-max scaling and standardization are the most commonly used techniques and work well for many datasets.**\n",
        "\n",
        "Scaling should be applied separately to each training and test set to prevent data leakage from the test set into the training set. Additionally, **some algorithms may not require feature scaling, particularly tree-based models.**"
      ]
    },
    {
      "cell_type": "code",
      "execution_count": null,
      "metadata": {
        "id": "COef9EbCLfHb"
      },
      "outputs": [],
      "source": [
        "# Write your code here"
      ]
    },
    {
      "cell_type": "markdown",
      "metadata": {
        "id": "f_Lh-4JwLfHc"
      },
      "source": [
        "### II. Feature Encoding\n",
        "\n",
        "**Feature encoding**, also known as **categorical encoding**, is the process of converting categorical data (non-numeric data) into a numerical format so that it can be used as input for machine learning algorithms. Most machine learning models require numerical data for training and prediction, so feature encoding is a critical step in data preprocessing.\n",
        "\n",
        "Categorical data can take various forms, including:\n",
        "\n",
        "1. **Nominal Data:** Categories with no intrinsic order, like colors or country names.  \n",
        "\n",
        "2. **Ordinal Data:** Categories with a meaningful order but not necessarily equidistant, like education levels (e.g., \"high school,\" \"bachelor's,\" \"master's\").\n",
        "\n",
        "There are several common methods for encoding categorical data:\n",
        "\n",
        "1. **Label Encoding:**\n",
        "\n",
        "   - Label encoding assigns a unique integer to each category in a feature.\n",
        "   - It's suitable for ordinal data where there's a clear order among categories.\n",
        "   - For example, if you have an \"education\" feature with values \"high school,\" \"bachelor's,\" and \"master's,\" you can encode them as 0, 1, and 2, respectively.\n",
        "<br />\n",
        "<br />\n",
        "2. **One-Hot Encoding:**\n",
        "\n",
        "   - One-hot encoding creates a binary (0 or 1) column for each category in a nominal feature.\n",
        "   - It's suitable for nominal data where there's no inherent order among categories.\n",
        "   - Each category becomes a new feature, and the presence (1) or absence (0) of a category is indicated for each row.\n",
        "<br />\n",
        "<br />\n",
        "3. **Target Encoding (Mean Encoding):**\n",
        "\n",
        "   - Target encoding replaces each category with the mean of the target variable for that category.\n",
        "   - It's often used for classification problems."
      ]
    },
    {
      "cell_type": "code",
      "execution_count": null,
      "metadata": {
        "id": "psElSUugLfHc"
      },
      "outputs": [],
      "source": [
        "# Write your code here"
      ]
    },
    {
      "cell_type": "markdown",
      "metadata": {
        "id": "jKQO9wtB8Pc0"
      },
      "source": [
        "### III. Handling Imbalanced Dataset\n",
        "\n",
        "**Handling imbalanced datasets** is important because imbalanced data can lead to several issues that negatively impact the performance and reliability of machine learning models. Here are some key reasons:\n",
        "\n",
        "1. **Biased Model Performance**:\n",
        "\n",
        " - Models trained on imbalanced data tend to be biased towards the majority class, leading to poor performance on the minority class. This can result in misleading accuracy metrics.\n",
        "\n",
        "2. **Misleading Accuracy**:\n",
        "\n",
        " - High overall accuracy can be misleading in imbalanced datasets. For example, if 95% of the data belongs to one class, a model that always predicts the majority class will have 95% accuracy but will fail to identify the minority class.\n",
        "\n",
        "3. **Poor Generalization**:\n",
        "\n",
        " - Models trained on imbalanced data may not generalize well to new, unseen data, especially if the minority class is underrepresented.\n",
        "\n",
        "\n",
        "Some methods to handle imbalanced datasets:\n",
        "1. **Resampling Methods**:\n",
        "\n",
        " - Oversampling: Increase the number of instances in the minority class by duplicating or generating synthetic samples (e.g., SMOTE).\n",
        " - Undersampling: Reduce the number of instances in the majority class to balance the dataset.\n",
        "\n",
        "2. **Evaluation Metrics**:\n",
        "\n",
        " - Use appropriate evaluation metrics such as precision, recall, F1-score, ROC-AUC, and confusion matrix instead of accuracy to better assess model performance on imbalanced data.\n",
        "\n",
        "3. **Algorithmic Approaches**:\n",
        "\n",
        " - Use algorithms that are designed to handle imbalanced data, such as decision trees, random forests, or ensemble methods.\n",
        " - Adjust class weights in algorithms to give more importance to the minority class."
      ]
    },
    {
      "cell_type": "code",
      "execution_count": null,
      "metadata": {
        "id": "u2BQd2XJ9W1i"
      },
      "outputs": [],
      "source": [
        "# Write your code here"
      ]
    },
    {
      "cell_type": "markdown",
      "metadata": {
        "id": "-ctVzt5DLfHd"
      },
      "source": [
        "# 3. Compile Preprocessing Pipeline\n",
        "\n",
        "All of the preprocessing classes or functions defined earlier will be compiled in this step."
      ]
    },
    {
      "cell_type": "markdown",
      "metadata": {
        "id": "S_ZlncSVjJG6"
      },
      "source": [
        "If you use sklearn to create preprocessing classes, you can list your preprocessing classes in the Pipeline object sequentially, and then fit and transform your data."
      ]
    },
    {
      "cell_type": "code",
      "execution_count": null,
      "metadata": {
        "id": "jHraoW_7LfHd"
      },
      "outputs": [],
      "source": [
        "# from sklearn.pipeline import Pipeline\n",
        "\n",
        "# # Note: You can add or delete preprocessing components from this pipeline\n",
        "\n",
        "# pipe = Pipeline([(\"imputer\", FeatureImputer()),\n",
        "#                  (\"featurecreator\", FeatureCreator()),\n",
        "#                  (\"scaler\", FeatureScaler()),\n",
        "#                  (\"encoder\", FeatureEncoder())])\n",
        "\n",
        "# train_set = pipe.fit_transform(train_set)\n",
        "# val_set = pipe.transform(val_set)"
      ]
    },
    {
      "cell_type": "code",
      "execution_count": null,
      "metadata": {
        "id": "9s56aFFxLfHd"
      },
      "outputs": [],
      "source": [
        "# # Your code should work up until this point\n",
        "# train_set = pipe.fit_transform(train_set)\n",
        "# val_set = pipe.transform(val_set)"
      ]
    },
    {
      "cell_type": "markdown",
      "metadata": {
        "id": "SXoCqMztjhr-"
      },
      "source": [
        "or create your own here"
      ]
    },
    {
      "cell_type": "code",
      "execution_count": null,
      "metadata": {
        "id": "7OoZ3oXEj2CW"
      },
      "outputs": [],
      "source": [
        "# Write your code here"
      ]
    },
    {
      "cell_type": "markdown",
      "metadata": {
        "id": "9A3adbZXLfHe"
      },
      "source": [
        "# 4. Modeling and Validation\n",
        "\n",
        "Modelling is the process of building your own machine learning models to solve specific problems, or in this assignment context, predicting the target feature `label`. Validation is the process of evaluating your trained model using the validation set or cross-validation method and providing some metrics that can help you decide what to do in the next iteration of development."
      ]
    },
    {
      "cell_type": "markdown",
      "metadata": {
        "id": "ZnhMNbBILfHf"
      },
      "source": [
        "## A. KNN"
      ]
    },
    {
      "cell_type": "code",
      "execution_count": null,
      "metadata": {
        "id": "KV6ICmFmlqjk"
      },
      "outputs": [],
      "source": [
        "# Type your code here"
      ]
    },
    {
      "cell_type": "markdown",
      "metadata": {
        "id": "nW0bMzkDLfHf"
      },
      "source": [
        "## B. Naive Bayes"
      ]
    },
    {
      "cell_type": "code",
      "execution_count": null,
      "metadata": {
        "id": "C_XwsN_-LfHg"
      },
      "outputs": [],
      "source": [
        "# Type your code here"
      ]
    },
    {
      "cell_type": "markdown",
      "metadata": {
        "id": "LoH2u6fOLfHh"
      },
      "source": [
        "## C. Improvements (Optional)\n",
        "\n",
        "- **Visualize the model evaluation result**\n",
        "\n",
        "This will help you to understand the details more clearly about your model's performance. From the visualization, you can see clearly if your model is leaning towards a class than the others. (Hint: confusion matrix, ROC-AUC curve, etc.)\n",
        "\n",
        "- **Explore the hyperparameters of your models**\n",
        "\n",
        "Each models have their own hyperparameters. And each of the hyperparameter have different effects on the model behaviour. You can optimize the model performance by finding the good set of hyperparameters through a process called **hyperparameter tuning**. (Hint: Grid search, random search, bayesian optimization)\n",
        "\n",
        "- **Cross-validation**\n",
        "\n",
        "Cross-validation is a critical technique in machine learning and data science for evaluating and validating the performance of predictive models. It provides a more **robust** and **reliable** evaluation method compared to a hold-out (single train-test set) validation. Though, it requires more time and computing power because of how cross-validation works. (Hint: k-fold cross-validation, stratified k-fold cross-validation, etc.)"
      ]
    },
    {
      "cell_type": "code",
      "execution_count": null,
      "metadata": {
        "id": "pg-A54yELfHh"
      },
      "outputs": [],
      "source": [
        "# Type your code here"
      ]
    },
    {
      "cell_type": "markdown",
      "metadata": {
        "id": "Li4l53DjLfHh"
      },
      "source": [
        "## D. Submission\n",
        "To predict the test set target feature and submit the results to the kaggle competition platform, do the following:\n",
        "1. Create a new pipeline instance identical to the first in Data Preprocessing\n",
        "2. With the pipeline, apply `fit_transform` to the original training set before splitting, then only apply `transform` to the test set.\n",
        "3. Retrain the model on the preprocessed training set\n",
        "4. Predict the test set\n",
        "5. Make sure the submission contains the `id` and `label` column.\n",
        "\n",
        "Note: Adjust step 1 and 2 to your implementation of the preprocessing step if you don't use pipeline API from `sklearn`."
      ]
    },
    {
      "cell_type": "code",
      "execution_count": null,
      "metadata": {
        "id": "LeqnfWc-LfHi"
      },
      "outputs": [],
      "source": [
        "# Type your code here"
      ]
    },
    {
      "cell_type": "markdown",
      "metadata": {
        "id": "R-jXvKOpLfHi"
      },
      "source": [
        "# 6. Error Analysis\n",
        "\n",
        "Based on all the process you have done until the modeling and evaluation step, write an analysis to support each steps you have taken to solve this problem. Write the analysis using the markdown block. Some questions that may help you in writing the analysis:\n",
        "\n",
        "- Does my model perform better in predicting one class than the other? If so, why is that?\n",
        "- To each models I have tried, which performs the best and what could be the reason?\n",
        "- Is it better for me to impute or drop the missing data? Why?\n",
        "- Does feature scaling help improve my model performance?\n",
        "- etc..."
      ]
    },
    {
      "cell_type": "markdown",
      "metadata": {
        "id": "tWL3nEAELfHj"
      },
      "source": [
        "`Provide your analysis here`"
      ]
    }
  ],
  "metadata": {
    "colab": {
      "provenance": []
    },
    "kernelspec": {
      "display_name": "Python 3",
      "language": "python",
      "name": "python3"
    },
    "language_info": {
      "codemirror_mode": {
        "name": "ipython",
        "version": 3
      },
      "file_extension": ".py",
      "mimetype": "text/x-python",
      "name": "python",
      "nbconvert_exporter": "python",
      "pygments_lexer": "ipython3",
      "version": "3.10.11"
    }
  },
  "nbformat": 4,
  "nbformat_minor": 0
}
